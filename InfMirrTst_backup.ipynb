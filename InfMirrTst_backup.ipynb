{
 "cells": [
  {
   "cell_type": "markdown",
   "metadata": {},
   "source": [
    "# Infinity Mirror Test\n",
    "\n",
    "Infinity Mirror Test for Analyzing the Robustness of Graph Generators\n",
    "\n",
    "This notebook provides detail information to help better understand our [paper](http://arxiv.org/abs/1606.04412). We will demonstrate how we applied the *infinity mirror* test to models inferred from a real network. This code is licensed under a BSD license. See [license file](http://www.nd.edu/~saguinag/LICENSE)."
   ]
  },
  {
   "cell_type": "code",
   "execution_count": 1,
   "metadata": {},
   "outputs": [],
   "source": [
    "%matplotlib inline\n",
    "import os\n",
    "import networkx as nx"
   ]
  },
  {
   "cell_type": "code",
   "execution_count": 2,
   "metadata": {
    "collapsed": true
   },
   "outputs": [],
   "source": [
    "# --< BEGIN >--\n",
    "ds_dir =      \"./datasets/\"   # Directory path containing your network datasets of interest\n",
    "results_dir = \"./Results/\" # Replace this with the directory you want to save the results\n",
    "tmp_dir =     \"/tmp\"          # Replace this with the directory you want to save the SFrame to"
   ]
  },
  {
   "cell_type": "markdown",
   "metadata": {},
   "source": [
    "## 1. Load a graph\n",
    "\n",
    "The words network and graph are used interachangeably through out."
   ]
  },
  {
   "cell_type": "code",
   "execution_count": 3,
   "metadata": {},
   "outputs": [
    {
     "name": "stdout",
     "output_type": "stream",
     "text": [
      "Name: sociopatterns-hypertext\n",
      "Type: Graph\n",
      "Number of nodes: 113\n",
      "Number of edges: 2196\n",
      "Average degree:  38.8673\n"
     ]
    }
   ],
   "source": [
    "# url = \"http://konect.uni-koblenz.de/downloads/tsv/as20000102.tar.bz2\"\n",
    "# wget http://konect.uni-koblenz.de/downloads/tsv/as20000102.tar.bz2\n",
    "# tar -xjf as20000102.tar.bz2 'as20000102/out.as20000102*'\n",
    "# mv as20000102/out.as20000102 datasets/\n",
    "nFname = ds_dir+\"out.sociopatterns-hypertext\" # get file from url above\n",
    "gname  = [x for x in os.path.basename(nFname).split('.') if len(x)>3][0]\n",
    "\n",
    "graph  = nx.read_edgelist(nFname, comments='%',  nodetype=int, data=(('weight',int),('ts',int)))\n",
    "graph.name=gname\n",
    "print nx.info(graph)\n"
   ]
  },
  {
   "cell_type": "markdown",
   "metadata": {},
   "source": [
    "## 2. Learn a model using Hyperedge Replacement Grammars (HRGs)\n",
    "\n",
    "Here we iterate 10 times by learning and growing a synthetic graph. Each time a model is learned from the last created graph. We store each 10th graph in a list. We compute network statistics on these group of graphs."
   ]
  },
  {
   "cell_type": "code",
   "execution_count": 4,
   "metadata": {},
   "outputs": [
    {
     "name": "stdout",
     "output_type": "stream",
     "text": [
      "T\n",
      "100\n",
      "T\n",
      "100\n",
      "T\n",
      "100\n",
      "T\n",
      "100\n"
     ]
    }
   ],
   "source": [
    "import PHRG.PHRG as phrg\n",
    "import PHRG.probabilistic_cfg as pcfg\n",
    "\n",
    "G = graph\n",
    "Hstars = [] # synthetic (stochastically generate) graphs using the graph grammars  \n",
    "ProdRulesKth =[]\n",
    "for j in range(0,2): # nbr of times to feedback the resulting graph\n",
    "    for k in range(0,20): # nbr of graph generations \n",
    "        # print (\"\\tGraph #:\",k+1)\n",
    "        prdrls = {}\n",
    "        prod_rules = phrg.probabilistic_hrg_learning(G,prod_rules=prdrls)\n",
    "        # initialize the Grammar g\n",
    "        g = pcfg.Grammar('S')\n",
    "\n",
    "        for (id, lhs, rhs, prob) in prod_rules:\n",
    "            g.add_rule(pcfg.Rule(id, lhs, rhs, prob))\n",
    "\n",
    "        num_nodes = G.number_of_nodes()\n",
    "        g.set_max_size(num_nodes)\n",
    "\n",
    "        #print \"Done initializing the grammar data-structure\"\n",
    "\n",
    "        # Generate a synthetic graph using HRGs\n",
    "        rule_list = g.sample(num_nodes)\n",
    "        hstar = phrg.grow(rule_list, g)[0]\n",
    "        G = hstar # feed back the newly created graph\n",
    "    # store the last synth graph & restart     \n",
    "    Hstars.append(hstar) #\n",
    "        "
   ]
  },
  {
   "cell_type": "code",
   "execution_count": 5,
   "metadata": {},
   "outputs": [
    {
     "name": "stderr",
     "output_type": "stream",
     "text": [
      "/usr/local/lib/python2.7/site-packages/matplotlib/__init__.py:1405: UserWarning: \n",
      "This call to matplotlib.use() has no effect because the backend has already\n",
      "been chosen; matplotlib.use() must be called *before* pylab, matplotlib.pyplot,\n",
      "or matplotlib.backends is imported for the first time.\n",
      "\n",
      "  warnings.warn(_use_error_msg)\n"
     ]
    },
    {
     "name": "stdout",
     "output_type": "stream",
     "text": [
      "Degree\n",
      "... Orig G\n",
      "13, 1\n",
      "18, 1\n",
      "20, 1\n",
      "22, 2\n",
      "23, 4\n",
      "25, 7\n",
      "26, 3\n",
      "27, 5\n",
      "28, 6\n",
      "29, 3\n",
      "30, 2\n",
      "31, 1\n",
      "32, 5\n",
      "33, 5\n",
      "34, 4\n",
      "35, 2\n",
      "36, 2\n",
      "37, 1\n",
      "38, 1\n",
      "39, 2\n",
      "40, 4\n",
      "41, 1\n",
      "42, 3\n",
      "43, 4\n",
      "45, 1\n",
      "46, 1\n",
      "47, 3\n",
      "49, 1\n",
      "50, 4\n",
      "51, 1\n",
      "52, 3\n",
      "53, 4\n",
      "54, 3\n",
      "55, 1\n",
      "56, 2\n",
      "57, 6\n",
      "58, 3\n",
      "59, 3\n",
      "62, 2\n",
      "63, 1\n",
      "64, 1\n",
      "65, 1\n",
      "67, 1\n",
      "69, 1\n",
      "\n",
      "... HRG G\n",
      "1\t2.000\n",
      "11\t1.000\n",
      "13\t1.500\n",
      "14\t1.000\n",
      "15\t1.000\n",
      "17\t2.000\n",
      "18\t1.000\n",
      "20\t1.500\n",
      "22\t2.000\n",
      "23\t3.000\n",
      "25\t4.000\n",
      "26\t3.000\n",
      "27\t3.500\n",
      "28\t4.000\n",
      "29\t2.500\n",
      "30\t2.000\n",
      "31\t1.500\n",
      "32\t3.000\n",
      "33\t4.500\n",
      "34\t3.000\n",
      "35\t1.500\n",
      "36\t1.500\n",
      "37\t1.500\n",
      "38\t1.500\n",
      "39\t2.500\n",
      "40\t2.500\n",
      "41\t1.500\n",
      "42\t3.000\n",
      "43\t4.500\n",
      "44\t7.000\n",
      "45\t1.500\n",
      "46\t4.500\n",
      "47\t3.500\n",
      "48\t5.000\n",
      "49\t2.000\n",
      "50\t3.500\n",
      "51\t2.500\n",
      "52\t3.000\n",
      "53\t3.000\n",
      "54\t4.500\n",
      "55\t1.500\n",
      "56\t2.000\n",
      "57\t5.000\n",
      "58\t3.000\n",
      "59\t2.500\n",
      "60\t2.000\n",
      "62\t2.000\n",
      "63\t1.000\n",
      "64\t1.000\n",
      "65\t1.000\n",
      "66\t1.000\n",
      "67\t1.000\n",
      "69\t1.000\n",
      "7\n",
      "Hops\n",
      "... Orig G\n",
      "0    38.25\n",
      "1    73.75\n",
      "2     0.00\n",
      "\n",
      "... Synth G\n",
      "0    39.525\n",
      "1    71.700\n",
      "2     0.775\n",
      "3     0.000\n",
      "Output:  /tmp/outfig_sociopatterns-hypertext.pdf\n"
     ]
    },
    {
     "data": {
      "text/plain": [
       "True"
      ]
     },
     "execution_count": 5,
     "metadata": {},
     "output_type": "execute_result"
    },
    {
     "data": {
      "image/png": "[encoded data removed]",
      "text/plain": [
       "<matplotlib.figure.Figure at 0x107fed690>"
      ]
     },
     "metadata": {},
     "output_type": "display_data"
    }
   ],
   "source": [
    "import matplotlib.pyplot as plt \n",
    "import net_metrics as metrics\n",
    "\n",
    "# Compute network property statistics and compare them to those of the original graph\n",
    "net_properties = [ 'degree','hops', 'clust', 'assort', 'kcore','eigen','gcd'] # list of available metrics\n",
    "net_properties = [ 'degree','hops']\n",
    "metrics.network_properties( [G], net_properties, Hstars, name=gname)\n",
    "# plt.show()#savefig('/tmp/outfig', bb_inches='tight')"
   ]
  },
  {
   "cell_type": "code",
   "execution_count": null,
   "metadata": {},
   "outputs": [],
   "source": [
    "plt.show()"
   ]
  },
  {
   "cell_type": "code",
   "execution_count": 2,
   "metadata": {},
   "outputs": [
    {
     "ename": "ImportError",
     "evalue": "No module named request",
     "output_type": "error",
     "traceback": [
      "\u001b[0;31m---------------------------------------------------------------------------\u001b[0m",
      "\u001b[0;31mImportError\u001b[0m                               Traceback (most recent call last)",
      "\u001b[0;32m<ipython-input-2-b9b9cddf3bf3>\u001b[0m in \u001b[0;36m<module>\u001b[0;34m()\u001b[0m\n\u001b[1;32m      1\u001b[0m \u001b[0;32mimport\u001b[0m \u001b[0mtarfile\u001b[0m\u001b[0;34m\u001b[0m\u001b[0m\n\u001b[0;32m----> 2\u001b[0;31m \u001b[0;32mfrom\u001b[0m \u001b[0murllib\u001b[0m\u001b[0;34m.\u001b[0m\u001b[0mrequest\u001b[0m \u001b[0;32mimport\u001b[0m \u001b[0murlopen\u001b[0m\u001b[0;34m\u001b[0m\u001b[0m\n\u001b[0m\u001b[1;32m      3\u001b[0m \u001b[0;34m\u001b[0m\u001b[0m\n\u001b[1;32m      4\u001b[0m \u001b[0;34m\u001b[0m\u001b[0m\n\u001b[1;32m      5\u001b[0m \u001b[0murl\u001b[0m \u001b[0;34m=\u001b[0m \u001b[0;34m\"http://konect.uni-koblenz.de/downloads/tsv/flickrEdges.tar.bz2\"\u001b[0m\u001b[0;34m\u001b[0m\u001b[0m\n",
      "\u001b[0;31mImportError\u001b[0m: No module named request"
     ]
    }
   ],
   "source": [
    "import tarfile\n",
    "from urllib.request import urlopen\n",
    "\n",
    "\n",
    "url = \"http://konect.uni-koblenz.de/downloads/tsv/flickrEdges.tar.bz2\"\n",
    "filename = '/tmp/temp.file'  \n",
    "req = urlopen(url)\n",
    "CHUNK = 16 * 1024\n",
    "\n",
    "decompressor = bz2.BZ2Decompressor()\n",
    "with open(filename, 'wb') as fp:\n",
    "    while True:\n",
    "        chunk = req.read(CHUNK)\n",
    "        if not chunk:\n",
    "            break\n",
    "        fp.write(decompressor.decompress(chunk))\n",
    "req.close()"
   ]
  },
  {
   "cell_type": "code",
   "execution_count": 16,
   "metadata": {},
   "outputs": [
    {
     "ename": "UnicodeDecodeError",
     "evalue": "'utf-8' codec can't decode byte 0xbe in position 10: invalid start byte",
     "output_type": "error",
     "traceback": [
      "\u001b[0;31m---------------------------------------------------------------------------\u001b[0m",
      "\u001b[0;31mUnicodeDecodeError\u001b[0m                        Traceback (most recent call last)",
      "\u001b[0;32m<ipython-input-16-0b03df4922d7>\u001b[0m in \u001b[0;36m<module>\u001b[0;34m()\u001b[0m\n\u001b[1;32m     21\u001b[0m \u001b[0murl_data\u001b[0m \u001b[0;34m=\u001b[0m \u001b[0murlopen\u001b[0m\u001b[0;34m(\u001b[0m\u001b[0murl\u001b[0m\u001b[0;34m)\u001b[0m\u001b[0;34m\u001b[0m\u001b[0m\n\u001b[1;32m     22\u001b[0m \u001b[0;34m\u001b[0m\u001b[0m\n\u001b[0;32m---> 23\u001b[0;31m \u001b[0marchive\u001b[0m\u001b[0;34m.\u001b[0m\u001b[0mwrite\u001b[0m\u001b[0;34m(\u001b[0m\u001b[0murl_data\u001b[0m\u001b[0;34m.\u001b[0m\u001b[0mread\u001b[0m\u001b[0;34m(\u001b[0m\u001b[0;34m)\u001b[0m\u001b[0;34m.\u001b[0m\u001b[0mdecode\u001b[0m\u001b[0;34m(\u001b[0m\u001b[0;34m\"utf-8\"\u001b[0m\u001b[0;34m)\u001b[0m\u001b[0;34m)\u001b[0m\u001b[0;34m\u001b[0m\u001b[0m\n\u001b[0m\u001b[1;32m     24\u001b[0m \u001b[0;34m\u001b[0m\u001b[0m\n\u001b[1;32m     25\u001b[0m \u001b[0;31m# will print how much compressed data you have buffered.\u001b[0m\u001b[0;34m\u001b[0m\u001b[0;34m\u001b[0m\u001b[0m\n",
      "\u001b[0;31mUnicodeDecodeError\u001b[0m: 'utf-8' codec can't decode byte 0xbe in position 10: invalid start byte"
     ]
    }
   ],
   "source": [
    "# Example, compatible with both Python2 and Python3:\n",
    "try:\n",
    "    from StringIO import StringIO\n",
    "except ImportError:\n",
    "    from io import StringIO\n",
    "    \n",
    "from urllib.request import urlopen\n",
    "import sys\n",
    "import os\n",
    "import bz2\n",
    "from bz2 import decompress\n",
    "\n",
    "# Get zip file from website\n",
    "# url = \"http://www.7-zip.org/a/7z920.tar.bz2\"  # just an example bz2 file\n",
    "url = \"http://konect.uni-koblenz.de/downloads/tsv/flickrEdges.tar.bz2\"\n",
    "\n",
    "archive = StringIO()\n",
    "\n",
    "# in case the request fails (e.g. 404, 500), this will raise\n",
    "# a `urllib2.HTTPError`\n",
    "url_data = urlopen(url)\n",
    "\n",
    "archive.write(url_data.read().decode(\"utf-8\"))\n",
    "\n",
    "# will print how much compressed data you have buffered.\n",
    "print (\"Length of file:\", archive.tell())\n",
    "\n",
    "# important!... make sure to reset the file descriptor read position\n",
    "# to the start of the file.\n",
    "# archive.seek(0)\n",
    "\n",
    "# # Extract the training data\n",
    "# data = bz2.decompress(archive.read())\n",
    "\n",
    "# # Write to csv\n",
    "# output_file = open('output_file', 'w')\n",
    "# output_file.write(data)\n",
    "# # filename = os.path.basename(filepath)\n",
    "# newfilepath = os.path.join(tmp_dir, filename + '.decompressed')\n",
    "# with open(newfilepath, 'wb') as new_file, bz2.BZ2File(filepath, 'rb') as file:\n",
    "#     for data in iter(lambda : file.read(100 * 1024), b''):\n",
    "#         new_file.write(data)"
   ]
  },
  {
   "cell_type": "markdown",
   "metadata": {},
   "source": [
    "## The BTER model\n",
    "\n",
    "We use the work provided by Tamara Kolda and her group, [BTER Guide: How to create a BTER graph that matches an existing graph](http://www.sandia.gov/~tgkolda/feastpack/doc_bter_match.html). The only difference is that we work with edgelist files (in `.txt` format).  This code is in the `Matlab` folder. We can infer a graph that matches the original in `oneoffbter.m`. Moreover, `infmir_bter.m` will do this over a series of recurrences where the output are graphs corresponding to the recurrence number.\n"
   ]
  },
  {
   "cell_type": "code",
   "execution_count": 2,
   "metadata": {},
   "outputs": [],
   "source": [
    "def graph_model_inducer_hrgs(G, iths = 1, avgs=1):\n",
    "    ''' graph model inducer: HRGs\n",
    "    '''\n",
    "    \n",
    "    return\n",
    "\n",
    "def graph_model_inducer_chung_lu(G):\n",
    "    ''' graph model inducer: Chung Lu\n",
    "    '''\n",
    "    \n",
    "    return\n",
    "\n",
    "def graph_model_inducer_bter(gname):\n",
    "    ''' graph model inducer: BTER\n",
    "    This relies on the Matlab code provided in this </> sample\n",
    "    param:   gname the graph name will help us fetch the files generated\n",
    "             from the Matlab BTER code.\n",
    "    returns: list of graph (nx) objects\n",
    "    '''\n",
    "    import glob\n",
    "    bter_graphs = []\n",
    "    files = glob.glob(\"./datasets/bter_\"+gname+\"*.tsv\")\n",
    "    for f in files:\n",
    "        try: \n",
    "            bter_graphs.append(nx.read_edgelist(f))\n",
    "        except Exception, e:\n",
    "            print str(e)\n",
    "    \n",
    "    return bter_graphs\n",
    "\n",
    "def graph_model_inducer_kron(G,gname, iths = 1, avgs=1):\n",
    "    ''' Graph model inducer: Kronecker Product\n",
    "    returns: list of graphs \n",
    "    '''\n",
    "    import hrgs.salPHRG as hrgs\n",
    "    kron_graphs = []\n",
    "    for n in range(avgs): # TODO: avgs is not being handle correctly!!\n",
    "        kp = hrgs.grow_graphs_using_krongen(G,gname,iths)\n",
    "        kron_graphs.append(kp)\n",
    "    return kron_graphs\n",
    "\n",
    "def learn_network_model(graph, graph_name, graph_generator, itrs=1):\n",
    "    ''' Learn network model \n",
    "    param: graph is the input graph (networkx obj)\n",
    "    param: graph_name (str obj)\n",
    "    param: graph_generator (str obj)\n",
    "    param: itrs nbr of iterations \n",
    "    returns: theta graph model\n",
    "    '''\n",
    "    graphlst = None\n",
    "    if graph_generator is 'chlu':\n",
    "        graph_model_inducer_chung_lu(graph)\n",
    "    elif graph_generator is 'kron': \n",
    "        graphlst = graph_model_inducer_kron(graph, graph_name, iths=itrs)\n",
    "    elif graph_generator is 'bter':\n",
    "        graph_model_inducer_bter(graph, graph_name)\n",
    "    elif graph_generator is 'hrgs':\n",
    "        graph_model_inducer_hrgs(graph, graph_name)\n",
    "    else:\n",
    "        return\n",
    "\n",
    "    return graphlst    \n",
    "\n",
    "   "
   ]
  },
  {
   "cell_type": "code",
   "execution_count": 3,
   "metadata": {},
   "outputs": [
    {
     "name": "stdout",
     "output_type": "stream",
     "text": [
      "Reading edgelist file: ./datasets/karate.txt \n",
      "k: 6 n 34\n",
      "/tmp/outfig75\n",
      "k: 6 n 47\n",
      "/tmp/outfig76\n",
      "k: 6 n 47\n",
      "/tmp/outfig77\n",
      "k: 6 n 46\n",
      "/tmp/outfig78\n",
      "k: 6 n 49\n",
      "/tmp/outfig79\n",
      "k: 6 n 42\n",
      "/tmp/outfig80\n",
      "k: 6 n 40\n",
      "/tmp/outfig81\n",
      "k: 6 n 35\n",
      "/tmp/outfig82\n",
      "k: 6 n 35\n",
      "/tmp/outfig83\n",
      "k: 6 n 40\n",
      "/tmp/outfig84\n",
      "~~~~~~~~~~~~~~~~~~~~ \n",
      "{1: 2.75, 2: 2.7142857142857144, 3: 2.6666666666666665, 4: 2.625, 5: 2.2, 6: 3.5}\n",
      "Name: \n",
      "Type: Graph\n",
      "Number of nodes: 36\n",
      "Number of edges: 34\n",
      "Average degree:   1.8889\n",
      "vs\n",
      "{1: 16.0, 2: 12.409090909090908, 3: 8.222222222222221, 4: 8.541666666666666, 5: 10.466666666666667, 6: 8.333333333333334, 9: 5.777777777777778, 10: 6.6, 12: 5.083333333333333, 16: 4.3125, 17: 3.823529411764706}\n",
      "Name: \n",
      "Type: Graph\n",
      "Number of nodes: 34\n",
      "Number of edges: 78\n",
      "Average degree:   4.5882\n"
     ]
    },
    {
     "name": "stderr",
     "output_type": "stream",
     "text": [
      ":0: FutureWarning: IPython widgets are experimental and may change in the future.\n"
     ]
    }
   ],
   "source": [
    "# ---< begin >---\n",
    "# Processing each of the input files\n",
    "genmodels = ['kron']\n",
    "for f in  input_networks_edgelist(base_dir):\n",
    "    if 'karate' not in f:\n",
    "        continue\n",
    "    \n",
    "    print(\"Reading edgelist file: %s \" % f)\n",
    "    G = load_network(f)\n",
    "    # print nx.info(G)\n",
    "    # print nx.average_degree_connectivity(G)\n",
    "    gname = os.path.basename(f).split('.')[0].lower()\n",
    "    for ggen in genmodels:\n",
    "        graphs_lst = learn_network_model(G,gname,graph_generator=ggen, itrs=10) \n",
    "        if graphs_lst is not None:\n",
    "            print '~'*20,'\\n',(nx.average_degree_connectivity( graphs_lst[0]))\n",
    "            print nx.info(graphs_lst[0])\n",
    "            print 'vs'\n",
    "            \n",
    "            print nx.average_degree_connectivity(G)\n",
    "            print nx.info(G)\n",
    "            \n",
    "    break\n",
    " "
   ]
  },
  {
   "cell_type": "code",
   "execution_count": null,
   "metadata": {
    "collapsed": true
   },
   "outputs": [],
   "source": []
  },
  {
   "cell_type": "code",
   "execution_count": 25,
   "metadata": {},
   "outputs": [
    {
     "name": "stdout",
     "output_type": "stream",
     "text": [
      "Name: \n",
      "Type: Graph\n",
      "Number of nodes: 1330\n",
      "Number of edges: 2675\n",
      "Average degree:   4.0226\n"
     ]
    },
    {
     "data": {
      "image/png": "[encoded data removed]",
      "text/plain": [
       "<matplotlib.figure.Figure at 0x11290cf90>"
      ]
     },
     "metadata": {},
     "output_type": "display_data"
    }
   ],
   "source": [
    "# BTER \n",
    "# example for dataset `netscience` bter graphs (edgelist)\n",
    "import matplotlib.pyplot as plt\n",
    "limits=plt.axis('off') # turn of axis\n",
    "\n",
    "nxgraphs = graph_model_inducer_bter('netscience')\n",
    "for g in nxgraphs:\n",
    "    print nx.info(g)\n",
    "    nx.draw_networkx(g,pos=nx.spring_layout(g), node_size=20, with_labels=False, width =0.5, alpha=0.8)   \n",
    "    break"
   ]
  },
  {
   "cell_type": "code",
   "execution_count": null,
   "metadata": {
    "collapsed": true
   },
   "outputs": [],
   "source": []
  }
 ],
 "metadata": {
  "anaconda-cloud": {},
  "kernelspec": {
   "display_name": "Python 2",
   "language": "python",
   "name": "python2"
  },
  "language_info": {
   "codemirror_mode": {
    "name": "ipython",
    "version": 2
   },
   "file_extension": ".py",
   "mimetype": "text/x-python",
   "name": "python",
   "nbconvert_exporter": "python",
   "pygments_lexer": "ipython2",
   "version": "2.7.13"
  }
 },
 "nbformat": 4,
 "nbformat_minor": 1
}
